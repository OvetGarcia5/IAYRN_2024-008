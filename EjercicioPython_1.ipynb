{
  "nbformat": 4,
  "nbformat_minor": 0,
  "metadata": {
    "colab": {
      "provenance": [],
      "authorship_tag": "ABX9TyPXiimJv1vxKjAB/kgBinzZ",
      "include_colab_link": true
    },
    "kernelspec": {
      "name": "python3",
      "display_name": "Python 3"
    },
    "language_info": {
      "name": "python"
    }
  },
  "cells": [
    {
      "cell_type": "markdown",
      "metadata": {
        "id": "view-in-github",
        "colab_type": "text"
      },
      "source": [
        "<a href=\"https://colab.research.google.com/github/OvetGarcia5/IAYRN_2024-008/blob/main/EjercicioPython_1.ipynb\" target=\"_parent\"><img src=\"https://colab.research.google.com/assets/colab-badge.svg\" alt=\"Open In Colab\"/></a>"
      ]
    },
    {
      "cell_type": "markdown",
      "source": [
        "**Actividad 5: Diseño de Algoritmos en Python**\n",
        "\n",
        "Ovet Orlando Garcia Quiroz 1923949  IA Y RN-N4\n"
      ],
      "metadata": {
        "id": "dphuAetllZnb"
      }
    },
    {
      "cell_type": "markdown",
      "source": [
        "1.Desarrolla un algoritmo que le pida al usuario por su nombre y que lo salude con su nombre, excepto si se llama “Ana”, “Juan”, y “Pedro”."
      ],
      "metadata": {
        "id": "_cmd6VxT9gS7"
      }
    },
    {
      "cell_type": "code",
      "source": [
        "#Regards to a User\n",
        "Name = input(\"Hi, Whats your name? \")\n",
        "Exception = [ \"Ana\",\"Juan\",\"Pedro\"]\n",
        "if Name in Exception:\n",
        "  print(\"Sorry, I can't talk to you\")\n",
        "else:\n",
        "  print(f\"Hello,{Name}\")\n",
        "  print(\"Nice to meet you!\")\n",
        "\n"
      ],
      "metadata": {
        "id": "OZBArs8USkm8",
        "colab": {
          "base_uri": "https://localhost:8080/"
        },
        "outputId": "bf1a2985-502b-4df6-c03c-a6c6f518a936"
      },
      "execution_count": 10,
      "outputs": [
        {
          "output_type": "stream",
          "name": "stdout",
          "text": [
            "Hi, Whats your name? Ovet\n",
            "Hello,Ovet\n",
            "Nice to meet you!\n"
          ]
        }
      ]
    },
    {
      "cell_type": "markdown",
      "source": [
        "\n",
        "\n",
        "\n",
        "2. Desarrolla un algoritmo que por medio de una función, le pida al usuario una lista de N elementos y como resultado invierta el sentido de la lista."
      ],
      "metadata": {
        "id": "3cm14hSL9GBu"
      }
    },
    {
      "cell_type": "code",
      "source": [
        "#Lista Invertida\n",
        "\n",
        "N = int(input(\"Quantity of items in the list? \"))\n",
        "def invertir(lista):\n",
        "    return lista[::-1]\n",
        "\n",
        "for x in range(N):\n",
        "  element = input (\"Whats items do you want to add?\")\n",
        "  lista.append(element)\n",
        "\n",
        "Invertida = invertir(lista)\n",
        "print(Invertida)\n"
      ],
      "metadata": {
        "colab": {
          "base_uri": "https://localhost:8080/"
        },
        "id": "4Xfz7l7x9vP5",
        "outputId": "e6dca399-4637-42cb-9771-4d4db0505e44"
      },
      "execution_count": 20,
      "outputs": [
        {
          "output_type": "stream",
          "name": "stdout",
          "text": [
            "Quantity of items in the list? 3\n",
            "Whats items do you want to add?1,2,3\n",
            "Whats items do you want to add?\n",
            "Whats items do you want to add?\n",
            "['', '', '1,2,3', '', '12', '', '', '123', '1234']\n"
          ]
        }
      ]
    },
    {
      "cell_type": "code",
      "source": [
        "def invertir_lista():\n",
        "    n = int(input(\"Quantity of items in the list? \"))\n",
        "\n",
        "    lista = []\n",
        "\n",
        "    for i in range(n):\n",
        "        elemento = input(f\"Enter the element: {i + 1}: \")\n",
        "        lista.append(elemento)\n",
        "\n",
        "    lista_invertida = lista[::-1]\n",
        "\n",
        "    print(\"Lista invertida:\")\n",
        "    print(lista_invertida)\n",
        "\n",
        "invertir_lista()"
      ],
      "metadata": {
        "colab": {
          "base_uri": "https://localhost:8080/"
        },
        "id": "6gEByM12Fk9L",
        "outputId": "4d954f96-2909-43d6-fe1c-bfdd11f8de16"
      },
      "execution_count": 23,
      "outputs": [
        {
          "output_type": "stream",
          "name": "stdout",
          "text": [
            "Quantity of items in the list? 2\n",
            "Enter the element: 1: Hugo\n",
            "Enter the element: 2: Beto\n",
            "Lista invertida:\n",
            "['Beto', 'Hugo']\n"
          ]
        }
      ]
    },
    {
      "cell_type": "markdown",
      "source": [
        "3 - Desarrolla un algoritmo que le pregunte al usuario cuántos números de la serie de Fibonacci quiere generar y que al final los imprima."
      ],
      "metadata": {
        "id": "lUGKojqLH04Y"
      }
    },
    {
      "cell_type": "code",
      "source": [
        "n = int(input(\"How many numbers of the Fibonacci series do you want to generate? \"))\n",
        "def generar(n):\n",
        "    serie = []\n",
        "    a, b = 0, 1\n",
        "    for _ in range(n):\n",
        "        serie.append(a)\n",
        "        a, b = b, a + b\n",
        "    return serie\n",
        "\n",
        "fib_serie = generar(n)\n",
        "print(\"Fibonacci series: \", fib_serie)"
      ],
      "metadata": {
        "colab": {
          "base_uri": "https://localhost:8080/"
        },
        "id": "XeMOW2lYH8KW",
        "outputId": "9bef761e-de81-4a26-95fb-217af4146285"
      },
      "execution_count": 26,
      "outputs": [
        {
          "output_type": "stream",
          "name": "stdout",
          "text": [
            "How many numbers of the Fibonacci series do you want to generate? 50\n",
            "Fibonacci series:  [0, 1, 1, 2, 3, 5, 8, 13, 21, 34, 55, 89, 144, 233, 377, 610, 987, 1597, 2584, 4181, 6765, 10946, 17711, 28657, 46368, 75025, 121393, 196418, 317811, 514229, 832040, 1346269, 2178309, 3524578, 5702887, 9227465, 14930352, 24157817, 39088169, 63245986, 102334155, 165580141, 267914296, 433494437, 701408733, 1134903170, 1836311903, 2971215073, 4807526976, 7778742049]\n"
          ]
        }
      ]
    },
    {
      "cell_type": "markdown",
      "source": [
        "4 - Juego de adivinar el número: Crea un programa que genere un número aleatorio entre 1 y 100, y luego le pida al usuario que adivine el número. El programa debe proporcionar pistas al usuario si el número es mayor o menor que el número objetivo, y seguir solicitando un nuevo intento hasta que el usuario adivine correctamente"
      ],
      "metadata": {
        "id": "C6YkQyJ4J7QD"
      }
    },
    {
      "cell_type": "code",
      "source": [
        "import random\n",
        "\n",
        "def juego_adivinanza():\n",
        "\n",
        "    numero_objetivo = random.randint(1, 100)\n",
        "\n",
        "    print(\"Welcome to the guess the number game!\")\n",
        "    print(\"I have chosen a number between 1 and 100. Try to guess it.\")\n",
        "\n",
        "    while True:\n",
        "\n",
        "      adivinanza = input(\"Let's start Enter your guess: \")\n",
        "\n",
        "      if not adivinanza.isdigit():\n",
        "            print(\"Please enter a valid integer number.\")\n",
        "            continue\n",
        "\n",
        "      adivinanza = int(adivinanza)\n",
        "\n",
        "      if adivinanza < numero_objetivo:\n",
        "            print(\"The number is higher. Try again.\")\n",
        "      elif adivinanza > numero_objetivo:\n",
        "            print(\"The number is lower. Try again.\")\n",
        "      else:\n",
        "            print(f\"Congratulations! You have guessed the number {numero_objetivo}.\")\n",
        "            break\n",
        "\n",
        "juego_adivinanza()"
      ],
      "metadata": {
        "colab": {
          "base_uri": "https://localhost:8080/"
        },
        "id": "YoHmsLOwLb9l",
        "outputId": "bb5984f3-2590-48a0-dfb8-d323f23a5d66"
      },
      "execution_count": 35,
      "outputs": [
        {
          "output_type": "stream",
          "name": "stdout",
          "text": [
            "Welcome to the guess the number game!\n",
            "I have chosen a number between 1 and 100. Try to guess it.\n",
            "Let's start Enter your guess: 100\n",
            "The number is lower. Try again.\n",
            "Let's start Enter your guess: 1\n",
            "The number is higher. Try again.\n",
            "Let's start Enter your guess: 50 \n",
            "Please enter a valid integer number.\n",
            "Let's start Enter your guess: 20\n",
            "The number is higher. Try again.\n",
            "Let's start Enter your guess: 4 0\n",
            "Please enter a valid integer number.\n",
            "Let's start Enter your guess: 40\n",
            "The number is higher. Try again.\n",
            "Let's start Enter your guess: 70\n",
            "The number is higher. Try again.\n",
            "Let's start Enter your guess: 90\n",
            "The number is lower. Try again.\n",
            "Let's start Enter your guess: 80\n",
            "The number is lower. Try again.\n",
            "Let's start Enter your guess: 75\n",
            "The number is lower. Try again.\n",
            "Let's start Enter your guess: 71\n",
            "Congratulations! You have guessed the number 71.\n"
          ]
        }
      ]
    },
    {
      "cell_type": "markdown",
      "source": [
        "5 - Ejercicio de cálculo de números primos en un rango dado: Escribe un programa que solicite al usuario un rango de números y muestre todos los números primos dentro de ese rango."
      ],
      "metadata": {
        "id": "4XXDV_RzToA_"
      }
    },
    {
      "cell_type": "code",
      "source": [
        "def is_prime(number):\n",
        "    if number <= 1:\n",
        "        return False\n",
        "    for i in range(2, int(number**0.5) + 1):\n",
        "        if number % i == 0:\n",
        "            return False\n",
        "    return True\n",
        "\n",
        "def main():\n",
        "    try:\n",
        "        start = int(input(\"Enter the start of the range: \"))\n",
        "        end = int(input(\"Enter the end of the range: \"))\n",
        "\n",
        "        if start > end:\n",
        "            print(\"The start of the range must be less than or equal to the end of the range.\")\n",
        "        elif start < 1:\n",
        "            print(\"The range must start from 1 or a positive number.\")\n",
        "        else:\n",
        "            primes = [num for num in range(start, end + 1) if is_prime(num)]\n",
        "            print(f\"Prime numbers in the range from {start} to {end}:\")\n",
        "            print(primes)\n",
        "    except ValueError:\n",
        "        print(\"Please enter valid integers.\")\n",
        "\n",
        "if __name__ == \"__main__\":\n",
        "    main()\n"
      ],
      "metadata": {
        "colab": {
          "base_uri": "https://localhost:8080/"
        },
        "id": "x3WB-QTlUF8J",
        "outputId": "c1767dcd-e9ff-4938-add1-814025247f92"
      },
      "execution_count": 37,
      "outputs": [
        {
          "output_type": "stream",
          "name": "stdout",
          "text": [
            "Enter the start of the range: 1\n",
            "Enter the end of the range: 80\n",
            "Prime numbers in the range from 1 to 80:\n",
            "[2, 3, 5, 7, 11, 13, 17, 19, 23, 29, 31, 37, 41, 43, 47, 53, 59, 61, 67, 71, 73, 79]\n"
          ]
        }
      ]
    },
    {
      "cell_type": "markdown",
      "source": [
        "6 - Ejercicio de implementación de una calculadora básica utilizando funciones: Escribe un programa que solicite al usuario dos números y realice operaciones básicas como suma, resta, multiplicación y división utilizando funciones separadas para cada operación."
      ],
      "metadata": {
        "id": "DqsbiDfcnkLe"
      }
    },
    {
      "cell_type": "code",
      "source": [
        "def sumar(a, b):\n",
        "    return a + b\n",
        "\n",
        "def restar(a, b):\n",
        "    return a - b\n",
        "\n",
        "def multiplicar(a, b):\n",
        "    return a * b\n",
        "\n",
        "def dividir(a, b):\n",
        "    if b != 0:\n",
        "        return a / b\n",
        "    else:\n",
        "        return \"Error: División por cero\"\n",
        "\n",
        "def main():\n",
        "    try:\n",
        "        numero1 = float(input(\"Introduce el primer número: \"))\n",
        "        numero2 = float(input(\"Introduce el segundo número: \"))\n",
        "\n",
        "        print(\"Selecciona una operación:\")\n",
        "        print(\"1. Sumar\")\n",
        "        print(\"2. Restar\")\n",
        "        print(\"3. Multiplicar\")\n",
        "        print(\"4. Dividir\")\n",
        "\n",
        "        operacion = input(\"Introduce el número de la operación deseada (1/2/3/4): \")\n",
        "\n",
        "        if operacion == '1':\n",
        "            resultado = sumar(numero1, numero2)\n",
        "            print(f\"La suma de {numero1} y {numero2} es {resultado}.\")\n",
        "        elif operacion == '2':\n",
        "            resultado = restar(numero1, numero2)\n",
        "            print(f\"La resta de {numero1} y {numero2} es {resultado}.\")\n",
        "        elif operacion == '3':\n",
        "            resultado = multiplicar(numero1, numero2)\n",
        "            print(f\"La multiplicación de {numero1} y {numero2} es {resultado}.\")\n",
        "        elif operacion == '4':\n",
        "            resultado = dividir(numero1, numero2)\n",
        "            print(f\"La división de {numero1} entre {numero2} es {resultado}.\")\n",
        "        else:\n",
        "            print(\"Opción no válida.\")\n",
        "\n",
        "    except ValueError:\n",
        "        print(\"Por favor ingresa números válidos.\")\n",
        "\n",
        "if __name__ == \"__main__\":\n",
        "    main()\n"
      ],
      "metadata": {
        "colab": {
          "base_uri": "https://localhost:8080/"
        },
        "id": "tsyDEemAoVu1",
        "outputId": "200f69c6-e476-47fb-f0fe-c8fb5dd79396"
      },
      "execution_count": 39,
      "outputs": [
        {
          "output_type": "stream",
          "name": "stdout",
          "text": [
            "Introduce el primer número: 34.5\n",
            "Introduce el segundo número: 33\n",
            "Selecciona una operación:\n",
            "1. Sumar\n",
            "2. Restar\n",
            "3. Multiplicar\n",
            "4. Dividir\n",
            "Introduce el número de la operación deseada (1/2/3/4): 3\n",
            "La multiplicación de 34.5 y 33.0 es 1138.5.\n"
          ]
        }
      ]
    }
  ]
}