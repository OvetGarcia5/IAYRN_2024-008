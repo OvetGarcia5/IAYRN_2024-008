{
  "nbformat": 4,
  "nbformat_minor": 0,
  "metadata": {
    "colab": {
      "provenance": [],
      "name": "RNC.ipynb",
      "authorship_tag": "ABX9TyMHqFyuuhdn4SxOec35EluI",
      "include_colab_link": true
    },
    "kernelspec": {
      "name": "python3",
      "display_name": "Python 3"
    },
    "language_info": {
      "name": "python"
    }
  },
  "cells": [
    {
      "cell_type": "markdown",
      "metadata": {
        "id": "view-in-github",
        "colab_type": "text"
      },
      "source": [
        "<a href=\"https://colab.research.google.com/github/OvetGarcia5/IAYRN_2024-008/blob/main/RNC.ipynb\" target=\"_parent\"><img src=\"https://colab.research.google.com/assets/colab-badge.svg\" alt=\"Open In Colab\"/></a>"
      ]
    },
    {
      "cell_type": "code",
      "execution_count": null,
      "metadata": {
        "id": "5NDJDaU8sox4"
      },
      "outputs": [],
      "source": [
        "# ACTIVIDAD 9 - REDES NEURONALES\n",
        "# OVET ORLADNO GARCIA QUIROZ 1923949\n",
        "# GRUPO: 008    HORA: N4"
      ]
    },
    {
      "cell_type": "code",
      "source": [
        "# PASO 1 - CARGAR LIBRERÍAS\n",
        "import tensorflow as tf\n",
        "import numpy as np\n",
        "import keras\n",
        "import matplotlib.pyplot as plt\n",
        "from tensorflow import keras\n",
        "from tensorflow.keras import layers, datasets, models\n",
        "\n",
        "print(tf.__version__)"
      ],
      "metadata": {
        "id": "T4n9B_Pss5CU"
      },
      "execution_count": null,
      "outputs": []
    },
    {
      "cell_type": "code",
      "source": [
        "# VIZUALIZANDO SET DE DATOS\n",
        "keras.datasets.mnist.load_data(path=\"mnist.npz\")"
      ],
      "metadata": {
        "id": "Srcyp-m-s58w"
      },
      "execution_count": null,
      "outputs": []
    },
    {
      "cell_type": "code",
      "source": [
        "# PASO 2 - CARGAR DATOS\n",
        "(x_train, y_train), (x_test, y_test) = datasets.mnist.load_data()\n",
        "assert x_train.shape == (60000, 28, 28)\n",
        "assert x_test.shape == (10000, 28, 28)\n",
        "assert y_train.shape == (60000,)\n",
        "assert y_test.shape == (10000,)"
      ],
      "metadata": {
        "id": "eiEH1sZes7Vy"
      },
      "execution_count": null,
      "outputs": []
    },
    {
      "cell_type": "code",
      "source": [
        "# PREPARAR CLASES\n",
        "class_names = ['Cero', 'Uno', 'Dos', 'Tres', 'Cuatro', 'Cinco',\n",
        "               'Seis', 'Siete', 'Ocho', 'Nueve']"
      ],
      "metadata": {
        "id": "TSsU9Yxzs9Az"
      },
      "execution_count": null,
      "outputs": []
    },
    {
      "cell_type": "code",
      "source": [
        "# EXPLORANDO IMÁGENES DE PRUEBA\n",
        "x_test.shape"
      ],
      "metadata": {
        "id": "n3lOPvbSs_Fa"
      },
      "execution_count": null,
      "outputs": []
    },
    {
      "cell_type": "code",
      "source": [
        "# EXPLORANDO IMÁGENES DE ENTRENAMIENTO\n",
        "x_train.shape"
      ],
      "metadata": {
        "id": "guuVEw2JtAwg"
      },
      "execution_count": null,
      "outputs": []
    },
    {
      "cell_type": "code",
      "source": [
        "# PASO 3 - PROCESAMIENTO DE DATOS\n",
        "plt.figure()\n",
        "plt.imshow(x_train[900])\n",
        "plt.colorbar()\n",
        "plt.grid(False)\n",
        "plt.show()"
      ],
      "metadata": {
        "id": "7nSI8zb4tCoj"
      },
      "execution_count": null,
      "outputs": []
    },
    {
      "cell_type": "code",
      "source": [
        "# ESCALANDO VALORES DE IMÁGENES\n",
        "x_train = x_train / 255.0\n",
        "x_test = x_test / 255.0"
      ],
      "metadata": {
        "id": "AF6wWmSctEGM"
      },
      "execution_count": null,
      "outputs": []
    },
    {
      "cell_type": "code",
      "source": [
        "# VISUALIZACIÓN DE LAS PRIMERAS 25 IMÁGENES\n",
        "\n",
        "plt.figure(figsize=(10,10))\n",
        "for i in range(25):\n",
        "    plt.subplot(5,5,i+1)\n",
        "    plt.xticks([])\n",
        "    plt.yticks([])\n",
        "    plt.grid(False)\n",
        "    plt.imshow(x_train[i], cmap=plt.cm.binary)\n",
        "    label_index = y_train[i]\n",
        "    if 0 <= label_index < len(class_names):\n",
        "        plt.xlabel(class_names[label_index])\n",
        "    else:\n",
        "        plt.xlabel(f\"Unknown Label ({label_index})\")\n",
        "plt.show()"
      ],
      "metadata": {
        "id": "wcoVwxnRtHdV"
      },
      "execution_count": null,
      "outputs": []
    },
    {
      "cell_type": "code",
      "source": [
        "# PASO 4 - SELECCIÓN Y ENTRENAMIENTO DEL MODELO\n",
        "model = models.Sequential()\n",
        "model.add(layers.Conv2D(32, (3, 3), activation='relu', input_shape=(28, 28, 1)))\n",
        "model.add(layers.MaxPooling2D((2, 2)))\n",
        "model.add(layers.Conv2D(64, (3, 3), activation='relu'))\n",
        "model.add(layers.MaxPooling2D((2, 2)))\n",
        "model.add(layers.Conv2D(64, (3, 3), activation='relu'))"
      ],
      "metadata": {
        "id": "nXvb-sxjtIDv"
      },
      "execution_count": null,
      "outputs": []
    },
    {
      "cell_type": "code",
      "source": [
        "# VISUALIZANDO LA ARQUITECTURA DEL MODELO\n",
        "model.summary()"
      ],
      "metadata": {
        "id": "SeiNHllGtKVw"
      },
      "execution_count": null,
      "outputs": []
    },
    {
      "cell_type": "code",
      "source": [
        "# AGREGANDO CAPAS\n",
        "model.add(layers.Flatten())\n",
        "model.add(layers.Dense(64, activation='relu'))\n",
        "model.add(layers.Dense(10, activation='softmax'))"
      ],
      "metadata": {
        "id": "pGLruDVutMNY"
      },
      "execution_count": null,
      "outputs": []
    },
    {
      "cell_type": "code",
      "source": [
        "# ARQUITECTURA COMPLETA\n",
        "model.summary()"
      ],
      "metadata": {
        "id": "l45DanjttNwy"
      },
      "execution_count": null,
      "outputs": []
    },
    {
      "cell_type": "code",
      "source": [
        "# COMPILANDO MODELO\n",
        "model.compile(optimizer='adam',\n",
        "               loss='sparse_categorical_crossentropy',\n",
        "              metrics=['accuracy'])\n",
        "\n",
        "history = model.fit(x_train, y_train, epochs=10,validation_data=(x_test, y_test))"
      ],
      "metadata": {
        "id": "HGxvHTYFtPIm"
      },
      "execution_count": null,
      "outputs": []
    },
    {
      "cell_type": "code",
      "source": [
        "# EVALUANDO EL MODELO\n",
        "plt.plot(history.history['accuracy'], label='accuracy')\n",
        "plt.plot(history.history['val_accuracy'], label = 'val_accuracy')\n",
        "plt.xlabel('Epoch')\n",
        "plt.ylabel('Accuracy')\n",
        "plt.ylim([0.7, 1.1])\n",
        "plt.legend(loc='lower right')\n",
        "\n",
        "test_loss, test_acc = model.evaluate(x_test, y_test, verbose=2)"
      ],
      "metadata": {
        "id": "fBmdP3QXtQ5A"
      },
      "execution_count": null,
      "outputs": []
    },
    {
      "cell_type": "code",
      "source": [
        "# EVALUACIÓN DE EXACTITUD DE LA RED NEURONAL\n",
        "test_loss, test_acc = model.evaluate(x_test, y_test, verbose=2)\n",
        "print(f\"\\nExactitud del modelo en datos de prueba: {test_acc}\")"
      ],
      "metadata": {
        "id": "FE_xXXDXtTRh"
      },
      "execution_count": null,
      "outputs": []
    },
    {
      "cell_type": "code",
      "source": [
        "# PASO 5 - PRUEBA DEL MODELO\n",
        "predictions = model.predict(x_test)"
      ],
      "metadata": {
        "id": "c3lTWxjQtVoO"
      },
      "execution_count": null,
      "outputs": []
    },
    {
      "cell_type": "markdown",
      "source": [
        "# PRUEBA 1"
      ],
      "metadata": {
        "id": "DUOPStoBtYG1"
      }
    },
    {
      "cell_type": "code",
      "source": [
        "# RESULTADOS DE LA IMÁGEN 100 (PROBABILIDADES DE LOS NÚMEROS QUE PUEDAN SER)\n",
        "predictions[100]"
      ],
      "metadata": {
        "id": "HfMoM5u7tZGV"
      },
      "execution_count": null,
      "outputs": []
    },
    {
      "cell_type": "code",
      "source": [
        "np.argmax(predictions[100])"
      ],
      "metadata": {
        "id": "DhmleqrCtc4q"
      },
      "execution_count": null,
      "outputs": []
    },
    {
      "cell_type": "code",
      "source": [
        "# RESULTADOS DE LA IMÁGEN 100 (SEGÚ LA PROBABILIDAD, ¿QUÉ NÚMERO ES?)\n",
        "y_test[100]"
      ],
      "metadata": {
        "id": "g7Gjba4Lte_2"
      },
      "execution_count": null,
      "outputs": []
    },
    {
      "cell_type": "code",
      "source": [
        "# FUNCIÓN PARA VISUALIZACIÓN DE IMÁGENES DE RESULTADO\n",
        "def plot_image(i, predictions_array, y_test, img):\n",
        "  predictions_array, true_label, img = predictions_array, y_test[i], img[i]\n",
        "  plt.grid(False)\n",
        "  plt.xticks([])\n",
        "  plt.yticks([])\n",
        "\n",
        "  plt.imshow(img, cmap=plt.cm.binary)\n",
        "\n",
        "  predicted_label = np.argmax(predictions_array)\n",
        "  if predicted_label == true_label:\n",
        "    color = 'blue'\n",
        "  else:\n",
        "    color = 'red'\n",
        "\n",
        "  plt.xlabel(\"{} {:2.0f}% ({})\".format(class_names[predicted_label],\n",
        "                                100*np.max(predictions_array),\n",
        "                                class_names[true_label]),\n",
        "                                color=color)\n",
        "\n",
        "def plot_value_array(i, predictions_array, true_label):\n",
        "  predictions_array, true_label = predictions_array, true_label[i]\n",
        "  plt.grid(False)\n",
        "  plt.xticks(range(10))\n",
        "  plt.yticks([])\n",
        "  thisplot = plt.bar(range(10), predictions_array, color=\"#777777\")\n",
        "  plt.ylim([0, 1])\n",
        "  predicted_label = np.argmax(predictions_array)\n",
        "\n",
        "  thisplot[predicted_label].set_color('red')\n",
        "  thisplot[true_label].set_color('blue')"
      ],
      "metadata": {
        "id": "Z6y1nqf4tgj_"
      },
      "execution_count": null,
      "outputs": []
    },
    {
      "cell_type": "code",
      "source": [
        "# RESULTADOS DE LA IMÁGEN 100 (VISUALIZACIÓN DE LA IMÁGEN Y RESULTADOS EN TABLAS)\n",
        "i = 100\n",
        "plt.figure(figsize=(6,3))\n",
        "plt.subplot(1,2,1)\n",
        "plot_image(i, predictions[i], y_test, x_test)\n",
        "plt.subplot(1,2,2)\n",
        "plot_value_array(i, predictions[i],  y_test)\n",
        "plt.show()"
      ],
      "metadata": {
        "id": "HLVz7k5TtjFH"
      },
      "execution_count": null,
      "outputs": []
    },
    {
      "cell_type": "markdown",
      "source": [
        "# PRUEBA 2"
      ],
      "metadata": {
        "id": "XLoGNL3YtlzH"
      }
    },
    {
      "cell_type": "code",
      "source": [
        "# RESULTADOS DE LA ÚLTIMA IMÁGEN (PROBABILIDADES DE LOS NÚMEROS QUE PUEDAN SER)\n",
        "predictions[-1]"
      ],
      "metadata": {
        "id": "5udx_1r6tlIn"
      },
      "execution_count": null,
      "outputs": []
    },
    {
      "cell_type": "code",
      "source": [
        "np.argmax(predictions[-1])"
      ],
      "metadata": {
        "id": "JowAZkTytq4J"
      },
      "execution_count": null,
      "outputs": []
    },
    {
      "cell_type": "code",
      "source": [
        "# RESULTADOS DE LA ÚLTIMA IMÁGEN (SEGÚ LA PROBABILIDAD, ¿QUÉ NÚMERO ES?)\n",
        "y_test[-1]"
      ],
      "metadata": {
        "id": "dRVUdSu9tt3M"
      },
      "execution_count": null,
      "outputs": []
    },
    {
      "cell_type": "code",
      "source": [
        "# RESULTADOS DE LA ÚLTIMA IMÁGEN (VISUALIZACIÓN DE LA IMÁGEN Y RESULTADOS EN TABLAS)\n",
        "i = -1\n",
        "plt.figure(figsize=(6,3))\n",
        "plt.subplot(1,2,1)\n",
        "plot_image(i, predictions[i], y_test, x_test)\n",
        "plt.subplot(1,2,2)\n",
        "plot_value_array(i, predictions[i],  y_test)\n",
        "plt.show()"
      ],
      "metadata": {
        "id": "8OL_kCq3tvUE"
      },
      "execution_count": null,
      "outputs": []
    },
    {
      "cell_type": "code",
      "source": [
        "# PRUEBA 3"
      ],
      "metadata": {
        "id": "TpXPwDyltxSt"
      },
      "execution_count": null,
      "outputs": []
    },
    {
      "cell_type": "code",
      "source": [
        "# RESULTADOS DE LA PRIMER IMÁGEN (PROBABILIDADES DE LOS NÚMEROS QUE PUEDAN SER)\n",
        "predictions[1]"
      ],
      "metadata": {
        "id": "HOuGLgustyyN"
      },
      "execution_count": null,
      "outputs": []
    },
    {
      "cell_type": "code",
      "source": [
        "np.argmax(predictions[1])"
      ],
      "metadata": {
        "id": "W58cYIb6t0ar"
      },
      "execution_count": null,
      "outputs": []
    },
    {
      "cell_type": "code",
      "source": [
        "# RESULTADOS DE LA PRIMER IMÁGEN (VISUALIZACIÓN DE LA IMÁGEN Y RESULTADOS EN TABLAS)\n",
        "i = 1\n",
        "plt.figure(figsize=(6,3))\n",
        "plt.subplot(1,2,1)\n",
        "plot_image(i, predictions[i], y_test, x_test)\n",
        "plt.subplot(1,2,2)\n",
        "plot_value_array(i, predictions[i],  y_test)\n",
        "plt.show()"
      ],
      "metadata": {
        "id": "DQqewWp1t2lQ"
      },
      "execution_count": null,
      "outputs": []
    },
    {
      "cell_type": "code",
      "source": [
        "# PRUEBA 4"
      ],
      "metadata": {
        "id": "WXYVZD42t4YC"
      },
      "execution_count": null,
      "outputs": []
    },
    {
      "cell_type": "code",
      "source": [
        "# RESULTADOS DE LA IMÁGEN 5000 (PROBABILIDADES DE LOS NÚMEROS QUE PUEDAN SER)\n",
        "predictions[5000]"
      ],
      "metadata": {
        "id": "jkMNo-kmt65h"
      },
      "execution_count": null,
      "outputs": []
    },
    {
      "cell_type": "code",
      "source": [
        "np.argmax(predictions[5000])"
      ],
      "metadata": {
        "id": "v_vxWdwnt8qa"
      },
      "execution_count": null,
      "outputs": []
    },
    {
      "cell_type": "code",
      "source": [
        "# RESULTADOS DE LA IMÁGEN 5000 (VISUALIZACIÓN DE LA IMÁGEN Y RESULTADOS EN TABLAS)\n",
        "i = 5000\n",
        "plt.figure(figsize=(6,3))\n",
        "plt.subplot(1,2,1)\n",
        "plot_image(i, predictions[i], y_test, x_test)\n",
        "plt.subplot(1,2,2)\n",
        "plot_value_array(i, predictions[i],  y_test)\n",
        "plt.show()"
      ],
      "metadata": {
        "id": "j1avCH-bt9_a"
      },
      "execution_count": null,
      "outputs": []
    },
    {
      "cell_type": "code",
      "source": [
        "# PRUEBA 5"
      ],
      "metadata": {
        "id": "5E7qfNAVt_pQ"
      },
      "execution_count": null,
      "outputs": []
    },
    {
      "cell_type": "code",
      "source": [
        "# RESULTADOS DE LA IMÁGEN 1358 (PROBABILIDADES DE LOS NÚMEROS QUE PUEDAN SER)\n",
        "predictions[1358]"
      ],
      "metadata": {
        "id": "xWERD64muBX_"
      },
      "execution_count": null,
      "outputs": []
    },
    {
      "cell_type": "code",
      "source": [
        "np.argmax(predictions[1358])"
      ],
      "metadata": {
        "id": "07-oWMrsuEwE"
      },
      "execution_count": null,
      "outputs": []
    },
    {
      "cell_type": "code",
      "source": [
        "# RESULTADOS DE LA IMÁGEN 1358 (VISUALIZACIÓN DE LA IMÁGEN Y RESULTADOS EN TABLAS)\n",
        "i = 1358\n",
        "plt.figure(figsize=(6,3))\n",
        "plt.subplot(1,2,1)\n",
        "plot_image(i, predictions[i], y_test, x_test)\n",
        "plt.subplot(1,2,2)\n",
        "plot_value_array(i, predictions[i],  y_test)\n",
        "plt.show()"
      ],
      "metadata": {
        "id": "MklGQE5nuFZG"
      },
      "execution_count": null,
      "outputs": []
    },
    {
      "cell_type": "markdown",
      "source": [
        "¿Cuántas épocas usaste para mejorar el rendimiento del modelo\n",
        "en comparación con la red neuronal prealimentada de la actividad 5?\n",
        "     Se usaron 10 épocas\n",
        "\n",
        "¿Obtuviste un mejor rendimiento con este modelo o con el de la actividad 5?\n",
        "      Si\n",
        "\n",
        "¿Por qué?\n",
        "    Pueden ser muchos factores, ya sea por las capas de las redes, también puede ser por el tipo de aprendizaje utilizado, por la arquitectura de la red"
      ],
      "metadata": {
        "id": "k82XsULdu1tg"
      }
    }
  ]
}
